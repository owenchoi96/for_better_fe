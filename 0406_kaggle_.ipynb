{
 "cells": [
  {
   "cell_type": "code",
   "execution_count": null,
   "id": "fc180003",
   "metadata": {},
   "outputs": [],
   "source": [
    "# EDA, feature engineering을 하기 전에 먼저 전체적인 과정을 먼저 돌려보기\n",
    "    # Feature engineering도 간단하게 하고 (사실상 거의 하지 않고)\n",
    "    # 인코딩도 label encoding 혹은 one hot encoding 수행해주고\n",
    "    # lightGBM 등의 머신러닝 알고리즘을 사용하여 학습/예측/평가 해죽\n",
    "# ==> 이후에 plot importance를 통해 중요한 피처들을 확인하기\n",
    "# 그리고 이러한 중요할 피처들을 대상으로 feature engineerging 등을 수행\n",
    "    # 사이클이 계속 반복됨. "
   ]
  },
  {
   "cell_type": "code",
   "execution_count": null,
   "id": "948eca82",
   "metadata": {},
   "outputs": [],
   "source": [
    "# EDA를 할 때, target값을 기준으로 나누어서도 해보고\n",
    "# plot importance이후 중요한 피처들을 대상으로 해보기\n",
    "# 이때 plt.subplots()를 사용하여 그래프를 그려줌\n",
    "    # 모든 feature에 대해서 우선 다 그려주기 \n",
    "    # 이때, 데이터 타입이 오브젝트인 컬럼과 오브젝트가 아닌 (date 포함) feature들로 나누어서 그래프를 그려줄 수 있음. "
   ]
  },
  {
   "cell_type": "code",
   "execution_count": null,
   "id": "6f2d3aec",
   "metadata": {},
   "outputs": [],
   "source": [
    "# feature engineering\n",
    "\n",
    "# feature들을 가공하기 전에 간단하게 \n",
    "    # value_counts()\n",
    "    # null 값\n",
    "    # mean, max, min, std 값\n",
    "    # 을 확인해보기\n",
    "    \n",
    "# 데이터를 가공할 때 (여기서만 그런것인지는 모르겠지만) \n",
    "# train & test set 둘이 함께 합쳐줘서 가공해주기\n",
    "# (굳이 번잡하게 두번 나누어서 가공할 필요가 없다고 하심. )\n",
    "\n",
    "# plot importance를 통해 확인한 중요한 feature들 재가공\n",
    "    # 값 자체만이 아니라 비율적인 측면을 확인하기 위해 비율로서 나타내기\n",
    "\n",
    "# ==> 그리고 첫번째 완전히 raw한 모델이 아닌 재가공이 끝난 두번째 모델 돌려보기\n",
    "# ==> 성능이 향상된 것을 확인할 수 있음. \n",
    "\n",
    "# 이 과정을 계속 반복. "
   ]
  },
  {
   "cell_type": "code",
   "execution_count": null,
   "id": "deac776f",
   "metadata": {},
   "outputs": [],
   "source": []
  },
  {
   "cell_type": "code",
   "execution_count": null,
   "id": "e6d54891",
   "metadata": {},
   "outputs": [],
   "source": [
    "# 여기 수업에서의 데이터의 경우\n",
    "# previous_application 과 application은 M:1 관계\n",
    "# 때문에 previous_application에 대해서 groupby, aggregation을 해야되는 부분이 많기 때문에 \n",
    "    # 부모 (데이터) 레벨로 피쳐들을 맞춰주어야 함. \n",
    "    # 여기서 선생님은 Join 보다는 merge를 사용할 것을 추천. \n",
    "    \n",
    "# 추가로 알아둬야 할 부분\n",
    "    # boxplot의 사용성 : outlier성 skew 된 데이터들이 있는지 확인해주기 위해\n",
    "    # 그래프를 그렸을 때 패턴을 찾기 어려운 것은 pass 해도 된다\n",
    "        # 모든 컬럼에서 패턴을 발견하고자 하는 것은 굉장이 어려울 수 있음.\n",
    "        # 선생님도 컬럼들을 보고 몇개의 findings만 추출하심. \n",
    "    # feature가 많을 때는 excel로 만들어서 보는 것도 좋은 방법. "
   ]
  },
  {
   "cell_type": "code",
   "execution_count": null,
   "id": "1b1b762c",
   "metadata": {},
   "outputs": [],
   "source": []
  },
  {
   "cell_type": "code",
   "execution_count": null,
   "id": "44e04226",
   "metadata": {},
   "outputs": [],
   "source": [
    "# groupby & merge\n",
    "# merge로 조인을 한 후에 indicator = True 로 어디에서 데이터가 끌어져 왔는지 확인할 수 있음.\n",
    "# 여기서는 previous - application의 관계가 m : 1이기 때문에 both아니면 left로 나옴. (Outer조인을 했을 때)\n",
    "\n",
    "# groupby 된 멀티인덱스 컬럼값을 개개인 별로 나누려면 .join()을 활용하여 멀티 인덱스 값을 합쳐서 하나의 컬럼이름으로 만들기\n",
    "\n",
    "# 이 수업에서 이자율 컬럼을 직접 만드는 경우가 있었는데,\n",
    "    # 이 부분을 보면서 도메인 지식, 혹은 사전지식 feature engineering에 중요하다는 것을 알 수 있었음. "
   ]
  },
  {
   "cell_type": "code",
   "execution_count": null,
   "id": "bbfe4b04",
   "metadata": {},
   "outputs": [],
   "source": []
  },
  {
   "cell_type": "code",
   "execution_count": null,
   "id": "cc994f6c",
   "metadata": {},
   "outputs": [],
   "source": [
    "# 컬럼명과 인덱스 명이 동일한 경우 reset_index의 name=을 써줘서 이름을 다르게 해줄 수 있음\n",
    "# 이 부분 모르면 고생을 좀 했을 수도 있음\n",
    "# ex) \n",
    "prev_refused_agg.reset_index(name='PREV_REFUSED_COUNT')\n",
    "\n",
    "# 일반적으로\n",
    "    # 1. groupby\n",
    "    # 2. reset_index\n",
    "    # 3. merge\n",
    "    # 이 순서를 따르는데, 이 부분을 인지하지 못하면 aggregation을 하고 컬럼에 다시 merge하는데\n",
    "    # 상당한 어려움을 겪을 수 있음.\n",
    "    # (pandas에서 groupby + join 과정이 SQL에 비해서 상당히 복잡하기 때문에 이 부분을 인지해야 할 필요가 있음.)\n",
    "\n",
    "\n",
    "# 컬럼의 unique한 값 중에서 두가지만 선택해서 보고 싶을 때, \n",
    "# 그리고 두 개의 값에 대하여 컬럼을 따로 만들고 싶을 때 ==> unstack\n",
    "# approved와 refused된 두가지 케이스만을 보고 싶을 때 \n",
    "prev_refused_appr_group = prev[prev['NAME_CONTRACT_STATUS'].isin(['Approved', 'Refused'])\n",
    "                               ].groupby(['SK_ID_CURR', 'NAME_CONTRACT_STATUS'])\n",
    "# 이후에 unstack하면 두개의 컬럼을 얻어낼 수 있음. \n",
    "prev_refused_appr_agg = prev_refused_appr_group['SK_ID_CURR'].count().unstack()"
   ]
  },
  {
   "cell_type": "code",
   "execution_count": null,
   "id": "b0653ca9",
   "metadata": {},
   "outputs": [],
   "source": []
  },
  {
   "cell_type": "code",
   "execution_count": null,
   "id": "7ea68a59",
   "metadata": {},
   "outputs": [],
   "source": []
  },
  {
   "cell_type": "code",
   "execution_count": null,
   "id": "b195f573",
   "metadata": {},
   "outputs": [],
   "source": []
  },
  {
   "cell_type": "code",
   "execution_count": null,
   "id": "d62ea606",
   "metadata": {},
   "outputs": [],
   "source": []
  },
  {
   "cell_type": "code",
   "execution_count": null,
   "id": "74b785e3",
   "metadata": {},
   "outputs": [],
   "source": []
  },
  {
   "cell_type": "code",
   "execution_count": null,
   "id": "021014c0",
   "metadata": {},
   "outputs": [],
   "source": []
  },
  {
   "cell_type": "code",
   "execution_count": null,
   "id": "766661cd",
   "metadata": {},
   "outputs": [],
   "source": []
  },
  {
   "cell_type": "code",
   "execution_count": null,
   "id": "02661bd1",
   "metadata": {},
   "outputs": [],
   "source": []
  },
  {
   "cell_type": "code",
   "execution_count": null,
   "id": "402b898c",
   "metadata": {},
   "outputs": [],
   "source": []
  },
  {
   "cell_type": "code",
   "execution_count": null,
   "id": "7dc2f89e",
   "metadata": {},
   "outputs": [],
   "source": []
  },
  {
   "cell_type": "code",
   "execution_count": null,
   "id": "a5fe9c6f",
   "metadata": {},
   "outputs": [],
   "source": []
  },
  {
   "cell_type": "code",
   "execution_count": null,
   "id": "f72e78d7",
   "metadata": {},
   "outputs": [],
   "source": []
  },
  {
   "cell_type": "code",
   "execution_count": null,
   "id": "bc3eeb45",
   "metadata": {},
   "outputs": [],
   "source": []
  },
  {
   "cell_type": "code",
   "execution_count": null,
   "id": "5ab5eba3",
   "metadata": {},
   "outputs": [],
   "source": []
  },
  {
   "cell_type": "code",
   "execution_count": null,
   "id": "068e860c",
   "metadata": {},
   "outputs": [],
   "source": []
  },
  {
   "cell_type": "code",
   "execution_count": null,
   "id": "2c113a8f",
   "metadata": {},
   "outputs": [],
   "source": []
  },
  {
   "cell_type": "code",
   "execution_count": null,
   "id": "1e01076b",
   "metadata": {},
   "outputs": [],
   "source": []
  },
  {
   "cell_type": "code",
   "execution_count": null,
   "id": "0ed323e5",
   "metadata": {},
   "outputs": [],
   "source": []
  },
  {
   "cell_type": "code",
   "execution_count": null,
   "id": "fffa0ae5",
   "metadata": {},
   "outputs": [],
   "source": []
  },
  {
   "cell_type": "code",
   "execution_count": null,
   "id": "5cb8867f",
   "metadata": {},
   "outputs": [],
   "source": []
  },
  {
   "cell_type": "code",
   "execution_count": null,
   "id": "fdacc5f2",
   "metadata": {},
   "outputs": [],
   "source": []
  },
  {
   "cell_type": "code",
   "execution_count": null,
   "id": "0af44d03",
   "metadata": {},
   "outputs": [],
   "source": []
  },
  {
   "cell_type": "code",
   "execution_count": null,
   "id": "e83c6c53",
   "metadata": {},
   "outputs": [],
   "source": []
  }
 ],
 "metadata": {
  "kernelspec": {
   "display_name": "Python 3 (ipykernel)",
   "language": "python",
   "name": "python3"
  },
  "language_info": {
   "codemirror_mode": {
    "name": "ipython",
    "version": 3
   },
   "file_extension": ".py",
   "mimetype": "text/x-python",
   "name": "python",
   "nbconvert_exporter": "python",
   "pygments_lexer": "ipython3",
   "version": "3.9.12"
  },
  "toc": {
   "base_numbering": 1,
   "nav_menu": {},
   "number_sections": true,
   "sideBar": true,
   "skip_h1_title": false,
   "title_cell": "Table of Contents",
   "title_sidebar": "Contents",
   "toc_cell": false,
   "toc_position": {},
   "toc_section_display": true,
   "toc_window_display": false
  },
  "varInspector": {
   "cols": {
    "lenName": 16,
    "lenType": 16,
    "lenVar": 40
   },
   "kernels_config": {
    "python": {
     "delete_cmd_postfix": "",
     "delete_cmd_prefix": "del ",
     "library": "var_list.py",
     "varRefreshCmd": "print(var_dic_list())"
    },
    "r": {
     "delete_cmd_postfix": ") ",
     "delete_cmd_prefix": "rm(",
     "library": "var_list.r",
     "varRefreshCmd": "cat(var_dic_list()) "
    }
   },
   "types_to_exclude": [
    "module",
    "function",
    "builtin_function_or_method",
    "instance",
    "_Feature"
   ],
   "window_display": false
  }
 },
 "nbformat": 4,
 "nbformat_minor": 5
}
