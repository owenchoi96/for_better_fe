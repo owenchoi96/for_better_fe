{
 "cells": [
  {
   "cell_type": "code",
   "execution_count": null,
   "id": "0713340f",
   "metadata": {},
   "outputs": [],
   "source": [
    "###### 피처 엔지니어링의 이해 ######\n",
    "\n",
    "# 머신러닝 모델 성능의 최적화\n",
    "    # 1. feature engineering\n",
    "    # 2. 알고리즘 선택\n",
    "    # 3. 하이퍼 파라미터 튜닝\n",
    "# 이렇게 3가지가 있지만 가장 중요한 것은 feature engineering\n",
    "# 하이퍼 파라미터 튜닝의 경우 성능이 드라마틱하게 좋아지는 것이 아니기 때문에\n",
    "# 왠만하면 feature engineering에 집중하는 것이 좋을 수 있음. \n",
    "\n",
    "\n",
    "# 기본 feature engineering\n",
    "    # 스케일링\n",
    "        # StandScaler/MinMAxScaler\n",
    "    # 인코딩\n",
    "        # LabelEncoding/OneHotEncoding\n",
    "    # 변환 (Transformation)\n",
    "        # 로그 변환\n",
    "        # Polynomial 피처 변환\n",
    "        # PCA 변환 (피처를 가공하는데 PCA가 쓰일 수 있음.)\n",
    "    # 결측치 / 이상치 치환\n",
    "    # skew 데이터 세트 보정\n",
    "        # 오버/언더 sampling\n",
    "\n",
    "\"+\"\n",
    "# 업무적인 이해에 기반한 피처 재가공과 생산\n",
    "    # 중요 피처들을 결합/재 가공 작업을 통해 새롭고 의미 있는 피처들을 도출\n",
    "    # 업무와 연관성이 높은 새로운 피처들을 생산\n",
    "# ==> 업무적인 이해없이 feature engineering을 할 수가 없음.\n",
    "# 또한 막상 실무에서는 필요한 데이터가 없는 경우가 있음\n",
    "# 이때는,\n",
    "    # 마케팅을 통한 데이터 얻기\n",
    "    # 신용평가사에 의뢰\n",
    "    # 데이터를 가지고 있는 회사에 요청 \n",
    "# 등등의 방법을 통해 가져옴. "
   ]
  },
  {
   "cell_type": "code",
   "execution_count": null,
   "id": "43f27aff",
   "metadata": {},
   "outputs": [],
   "source": [
    "# 피처 엔자니어링을 위한 주요 접근방식\n",
    "\n",
    "# 1. 업무적으로 중요한 feature들의 재결합 및 재가공\n",
    "    # 중요도가 높은 feature들에 대해서 재가공\n",
    "    # 주요 컬럼끼리 차 또는 합, 비율 등을 재가공\n",
    "    # 주요 컬럼 및 가공 컬럼들에 대한 다양한 aggregation 적용\n",
    "    # 업무적으로 의미있는 컬럼 재생산 \n",
    "    # (상상력을 발휘하여 재가공하는데 단계)\n",
    "    \n",
    "# 2. 최근 데이터, Active한 데이터 위추 필터링 후 데이터 가공\n",
    "    # 시계열성 데이터의 경우 오래전 데이터보다는 최근 데이터를 기반으로 별도의 재가공 적용\n",
    "    # 업무적으로 여전히 유효한 최근 데이터를 필터링하여 재가공 \n",
    "    # (과거보다는 현재시점의 데이터가 더 영향을 끼칠 수 있음)\n",
    "    \n",
    "# 아직 데이터로 표출되지 않은 중요 피처들을 feature engineering을 통해 도출\n",
    "# 지나치게 비슷한 피처들을 너무 많이 도출하는 것은 과적합을 초래할 수 있음.\n",
    "    # 적절한 피처들을 선택하는 추가 작업이 필요할 수도 있음. "
   ]
  },
  {
   "cell_type": "code",
   "execution_count": null,
   "id": "7f0684b6",
   "metadata": {},
   "outputs": [],
   "source": [
    "# 실무에서는 feature 자체를 만드는 것이 중요\n",
    "# 데이터를 요청하거나 캠페인 혹은 프로모션을 통해 직접 가져오기"
   ]
  },
  {
   "cell_type": "code",
   "execution_count": null,
   "id": "69df97ba",
   "metadata": {},
   "outputs": [],
   "source": [
    "\"\"\"\n",
    "plt.subplots()을 이용하여 그래프를 그릴 때는 hue 옵션을 사용할 수가 없음.\n",
    "때문에 condition을 미리 지정해놓고 데이터 셋을 분리하여 그래프를 그릴 수 있음. \n",
    "\"\"\"\n",
    "\n",
    "fig, axes = plt.subplots(nrows=1, ncols=2, figsize=(8,5), squeeze=False)\n",
    "\n",
    "cond1 = (app_train['TARGET'] == 1)\n",
    "cond0 = (app_train['TARGET'] == 0)\n",
    "cond_amt = (app_train['AMT_INCOME_TOTAL'] < 500000) # 이상치가 있으면 그래프를 제대로 볼 수 없기 때문에 이상치를 빼고 도식화를 해도 됨.\n",
    "\n",
    "sns.distplot(app_train[cond0 & cond_amt]['AMT_INCOME_TOTAL'], label='0', color='blue', ax=axes[0][1])\n",
    "sns.distplot(app_train[cond1 & cond_amt]['AMT_INCOME_TOTAL'], label='1', color='red', ax=axes[0][1])\n",
    "sns.violinplot(x='TARGET', y='AMT_INCOME_TOTAL', data=app_train[cond_amt], ax=axes[0][0])\n"
   ]
  },
  {
   "cell_type": "code",
   "execution_count": null,
   "id": "eeba5ee9",
   "metadata": {},
   "outputs": [],
   "source": [
    "##### preprocessing #####\n",
    "\n",
    "# 컬럼 중에 dtypes가 object인 컬럼만 가져오는 방법\n",
    "object_columns = df.dtypes[df.dtypes == 'object'].index.tolist()\n",
    "\n",
    "# pd.factorize ==> array와 원래의 값이 반환이 됨\n",
    "df['example_col'] = pd.factorize(df['example_col'])[0] # 첫번째 값이 인코딩된 값으로 나옴, 이후 다시 원래 컬럼에 담아주기 \n",
    "\n",
    "# 다른 컬럼들에도 반복 \n",
    "for col in object_columns:\n",
    "    df[col] = pd.factorize(df['col'])[0]\n",
    "    \n",
    "# Null값 일괄 변환\n",
    "    # XGBoost, lightGBM의 경우 null 값도 고려하여 알고리즘을 설계함. wow\n",
    "    "
   ]
  },
  {
   "cell_type": "code",
   "execution_count": null,
   "id": "5a9d4933",
   "metadata": {},
   "outputs": [],
   "source": []
  }
 ],
 "metadata": {
  "kernelspec": {
   "display_name": "Python 3 (ipykernel)",
   "language": "python",
   "name": "python3"
  },
  "language_info": {
   "codemirror_mode": {
    "name": "ipython",
    "version": 3
   },
   "file_extension": ".py",
   "mimetype": "text/x-python",
   "name": "python",
   "nbconvert_exporter": "python",
   "pygments_lexer": "ipython3",
   "version": "3.9.12"
  },
  "toc": {
   "base_numbering": 1,
   "nav_menu": {},
   "number_sections": true,
   "sideBar": true,
   "skip_h1_title": false,
   "title_cell": "Table of Contents",
   "title_sidebar": "Contents",
   "toc_cell": false,
   "toc_position": {},
   "toc_section_display": true,
   "toc_window_display": false
  },
  "varInspector": {
   "cols": {
    "lenName": 16,
    "lenType": 16,
    "lenVar": 40
   },
   "kernels_config": {
    "python": {
     "delete_cmd_postfix": "",
     "delete_cmd_prefix": "del ",
     "library": "var_list.py",
     "varRefreshCmd": "print(var_dic_list())"
    },
    "r": {
     "delete_cmd_postfix": ") ",
     "delete_cmd_prefix": "rm(",
     "library": "var_list.r",
     "varRefreshCmd": "cat(var_dic_list()) "
    }
   },
   "types_to_exclude": [
    "module",
    "function",
    "builtin_function_or_method",
    "instance",
    "_Feature"
   ],
   "window_display": false
  }
 },
 "nbformat": 4,
 "nbformat_minor": 5
}
