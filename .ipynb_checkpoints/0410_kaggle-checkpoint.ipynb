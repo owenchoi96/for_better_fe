{
 "cells": [
  {
   "cell_type": "code",
   "execution_count": 1,
   "id": "0d6ef1d6",
   "metadata": {},
   "outputs": [],
   "source": [
    "# 현 강의에서 보통 'SK_ID_CURR'컬럼으로 groupby가 이루어짐\n",
    "# 하지만 이렇게 될 경우 각 데이터 프레임으로 볼 수 있는 있는 세세한 특성들이 희석이 될 수 있음.\n",
    "# ex) 과거에는 대출금을 잘 냈지만 현재는 잘 내지 못하는 경우 등등\n",
    "# 이러한 시간적인 세세한 특성들이 희석되는 것을 감안하여 최대한 최신 데이터들을 가지고 오는 것이\n",
    "# 이 부분을 어느정도 해결해 줄수 있다고 선생님께서 설명해주심\n",
    "\n",
    "# 최근 데이터 ==> 희석 문제 어느 정도 해결"
   ]
  },
  {
   "cell_type": "code",
   "execution_count": null,
   "id": "ac0af593",
   "metadata": {},
   "outputs": [],
   "source": [
    "# pd.read_csv를 할 때 있는 그대로의 데이터를 그대로 가져오는 것이 아니라\n",
    "# 데이터 타입을 보고 나중에 dtype으로 가져오고자 하는 데이터의 용량을 조금 줄여서 가져올 수 있음\n",
    "# why? 데이터 메모리가 너무 크면 컴퓨터가 힘겨워하기 때문에\n",
    "# ==> dtype을 int32 ==> np.uint32 등으로 바꾸면 메모리 사용량이 훨씬 줄어들음. \n"
   ]
  },
  {
   "cell_type": "code",
   "execution_count": null,
   "id": "2ab847d0",
   "metadata": {},
   "outputs": [],
   "source": [
    "# feature engineering 시에 \n",
    "    # Diff ==> Ratio\n",
    "    # 1&0 (True or False) (Term)\n",
    "    # 이 부분을 고려해서 만들어 주기\n",
    "\n",
    "# 이렇게 만든 feature들을 모두 넣어주어 퍼포먼스를 높일 수 있음\n",
    "# 피처가 너무 많아지기는 하지만, 실무에서는 몰라도\n",
    "# kaggle에서는 소숫점의 퍼포먼스 향상이 순위를 올려줄 수 있음. "
   ]
  },
  {
   "cell_type": "code",
   "execution_count": null,
   "id": "7d403cdd",
   "metadata": {},
   "outputs": [],
   "source": [
    "# boolean 인덱싱으로 조건을 만들어 줄 때\n",
    "# cond_ 이렇게 사용해주기 "
   ]
  },
  {
   "cell_type": "code",
   "execution_count": null,
   "id": "ed634d9a",
   "metadata": {},
   "outputs": [],
   "source": []
  },
  {
   "cell_type": "code",
   "execution_count": null,
   "id": "52e2a9c4",
   "metadata": {},
   "outputs": [],
   "source": []
  },
  {
   "cell_type": "code",
   "execution_count": null,
   "id": "fb2ef09d",
   "metadata": {},
   "outputs": [],
   "source": []
  },
  {
   "cell_type": "code",
   "execution_count": null,
   "id": "2afe7dc8",
   "metadata": {},
   "outputs": [],
   "source": []
  },
  {
   "cell_type": "code",
   "execution_count": null,
   "id": "ca58a9d2",
   "metadata": {},
   "outputs": [],
   "source": []
  },
  {
   "cell_type": "code",
   "execution_count": null,
   "id": "973c7ef7",
   "metadata": {},
   "outputs": [],
   "source": []
  },
  {
   "cell_type": "code",
   "execution_count": null,
   "id": "13624d1c",
   "metadata": {},
   "outputs": [],
   "source": []
  },
  {
   "cell_type": "code",
   "execution_count": null,
   "id": "53f8a7a5",
   "metadata": {},
   "outputs": [],
   "source": []
  },
  {
   "cell_type": "code",
   "execution_count": null,
   "id": "7f8f6617",
   "metadata": {},
   "outputs": [],
   "source": []
  },
  {
   "cell_type": "code",
   "execution_count": null,
   "id": "67136c6b",
   "metadata": {},
   "outputs": [],
   "source": []
  },
  {
   "cell_type": "code",
   "execution_count": null,
   "id": "f3ff522e",
   "metadata": {},
   "outputs": [],
   "source": []
  },
  {
   "cell_type": "code",
   "execution_count": null,
   "id": "8554137e",
   "metadata": {},
   "outputs": [],
   "source": []
  }
 ],
 "metadata": {
  "kernelspec": {
   "display_name": "Python 3 (ipykernel)",
   "language": "python",
   "name": "python3"
  },
  "language_info": {
   "codemirror_mode": {
    "name": "ipython",
    "version": 3
   },
   "file_extension": ".py",
   "mimetype": "text/x-python",
   "name": "python",
   "nbconvert_exporter": "python",
   "pygments_lexer": "ipython3",
   "version": "3.9.16"
  },
  "toc": {
   "base_numbering": 1,
   "nav_menu": {},
   "number_sections": true,
   "sideBar": true,
   "skip_h1_title": false,
   "title_cell": "Table of Contents",
   "title_sidebar": "Contents",
   "toc_cell": false,
   "toc_position": {},
   "toc_section_display": true,
   "toc_window_display": false
  },
  "varInspector": {
   "cols": {
    "lenName": 16,
    "lenType": 16,
    "lenVar": 40
   },
   "kernels_config": {
    "python": {
     "delete_cmd_postfix": "",
     "delete_cmd_prefix": "del ",
     "library": "var_list.py",
     "varRefreshCmd": "print(var_dic_list())"
    },
    "r": {
     "delete_cmd_postfix": ") ",
     "delete_cmd_prefix": "rm(",
     "library": "var_list.r",
     "varRefreshCmd": "cat(var_dic_list()) "
    }
   },
   "types_to_exclude": [
    "module",
    "function",
    "builtin_function_or_method",
    "instance",
    "_Feature"
   ],
   "window_display": false
  }
 },
 "nbformat": 4,
 "nbformat_minor": 5
}
