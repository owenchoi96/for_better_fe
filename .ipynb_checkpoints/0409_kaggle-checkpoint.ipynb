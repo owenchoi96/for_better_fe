{
 "cells": [
  {
   "cell_type": "code",
   "execution_count": null,
   "id": "3b656972",
   "metadata": {},
   "outputs": [],
   "source": [
    "# feature engineering 할 때 생각할 점\n",
    "    # ==> 해당 컬림이 유용할 것인가?\n",
    "    # 해당 컬럼이 성능을 높이는데 유용하게 쓰일 것인가?\n",
    "# 내 상상에서 나온 로직들을 테스트하고 성능을 평가해보는 것이 중요함. \n",
    "    \n",
    "    \n",
    "    \n",
    "# 해당 강의에서 연체인지 아닌지를 구분하고자 하셨는데 \n",
    "# 이 때, 1,0으로 나누심\n",
    "# ==> why? 1,0으로 나누면 나중에 평균, sum 등을 구하는데 굉장히 편해짐\n",
    "    # sum의 경우 count가 아닌 sum을 써주면 쉽게 구할 수 있고\n",
    "    # 평균의 경우는 .mean()을 쓰거나 sum / count를 하면 됨\n",
    "    # feature의 경우 \n",
    "        # 1. (days, time) diff\n",
    "        # 2. ratio\n",
    "        # 3. max\n",
    "        # 4. min\n",
    "        # 5. sum\n",
    "        # 6. count\n",
    "    # 이렇게 6가지 정도를 기억해주면 좋음. (연속형의 숫자일 경우)\n",
    "    # 그 다음에 다른 데이터 프레임과 merge를 해주면 됨. \n",
    "    \n",
    "    \n",
    "# 캐글의 퍼블릭 커널에서는 수천개의 feature들을 만들고 feature selection을 하며 피처 개수를 줄여나감\n",
    "# 하지만 컴퍼티션이 아닌 실무/실전에서는 가능하면 난사를 줄이는 것이 비용적으로 시간적으로 낫다고 함.\n",
    "\n",
    "\n",
    "# 컬럼이 없는 경우에는 join을 사용하여 합쳐서 이용해주기 "
   ]
  },
  {
   "cell_type": "code",
   "execution_count": null,
   "id": "5d84e204",
   "metadata": {},
   "outputs": [],
   "source": []
  },
  {
   "cell_type": "code",
   "execution_count": null,
   "id": "582a4920",
   "metadata": {},
   "outputs": [],
   "source": []
  }
 ],
 "metadata": {
  "kernelspec": {
   "display_name": "Python 3 (ipykernel)",
   "language": "python",
   "name": "python3"
  },
  "language_info": {
   "codemirror_mode": {
    "name": "ipython",
    "version": 3
   },
   "file_extension": ".py",
   "mimetype": "text/x-python",
   "name": "python",
   "nbconvert_exporter": "python",
   "pygments_lexer": "ipython3",
   "version": "3.9.16"
  },
  "toc": {
   "base_numbering": 1,
   "nav_menu": {},
   "number_sections": true,
   "sideBar": true,
   "skip_h1_title": false,
   "title_cell": "Table of Contents",
   "title_sidebar": "Contents",
   "toc_cell": false,
   "toc_position": {},
   "toc_section_display": true,
   "toc_window_display": false
  },
  "varInspector": {
   "cols": {
    "lenName": 16,
    "lenType": 16,
    "lenVar": 40
   },
   "kernels_config": {
    "python": {
     "delete_cmd_postfix": "",
     "delete_cmd_prefix": "del ",
     "library": "var_list.py",
     "varRefreshCmd": "print(var_dic_list())"
    },
    "r": {
     "delete_cmd_postfix": ") ",
     "delete_cmd_prefix": "rm(",
     "library": "var_list.r",
     "varRefreshCmd": "cat(var_dic_list()) "
    }
   },
   "types_to_exclude": [
    "module",
    "function",
    "builtin_function_or_method",
    "instance",
    "_Feature"
   ],
   "window_display": false
  }
 },
 "nbformat": 4,
 "nbformat_minor": 5
}
